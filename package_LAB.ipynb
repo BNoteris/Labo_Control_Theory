{
 "cells": [
  {
   "cell_type": "markdown",
   "id": "26990904",
   "metadata": {
    "tags": []
   },
   "source": [
    "# package_LAB"
   ]
  },
  {
   "cell_type": "code",
   "execution_count": 2,
   "id": "f760d02b",
   "metadata": {
    "tags": []
   },
   "outputs": [
    {
     "ename": "ImportError",
     "evalue": "cannot import name 'PID' from 'package_LAB' (C:\\Users\\Bastien\\Downloads\\control_theory_software_v3\\Control_theory_software_V3\\Labo_Control_Theory\\package_LAB.py)",
     "output_type": "error",
     "traceback": [
      "\u001b[1;31m---------------------------------------------------------------------------\u001b[0m",
      "\u001b[1;31mImportError\u001b[0m                               Traceback (most recent call last)",
      "Cell \u001b[1;32mIn[2], line 15\u001b[0m\n\u001b[0;32m     13\u001b[0m package_LAB \u001b[38;5;241m=\u001b[39m reload(package_LAB)\n\u001b[0;32m     14\u001b[0m \u001b[38;5;28;01mfrom\u001b[39;00m \u001b[38;5;21;01mpackage_DBR\u001b[39;00m \u001b[38;5;28;01mimport\u001b[39;00m myRound, SelectPath_RT, Delay_RT,Process,Bode\n\u001b[1;32m---> 15\u001b[0m \u001b[38;5;28;01mfrom\u001b[39;00m \u001b[38;5;21;01mpackage_LAB\u001b[39;00m \u001b[38;5;28;01mimport\u001b[39;00m LL_RT,PID_RT, IMCTuning, PID\n",
      "\u001b[1;31mImportError\u001b[0m: cannot import name 'PID' from 'package_LAB' (C:\\Users\\Bastien\\Downloads\\control_theory_software_v3\\Control_theory_software_V3\\Labo_Control_Theory\\package_LAB.py)"
     ]
    }
   ],
   "source": [
    "# Correct import statements and package reloads\n",
    "import pandas as pd\n",
    "import numpy as np\n",
    "import matplotlib.pyplot as plt\n",
    "from scipy.optimize import minimize\n",
    "from matplotlib import colors as mcolors\n",
    "from ipywidgets import interact, FloatSlider,Layout\n",
    "import package_DBR\n",
    "\n",
    "import package_LAB\n",
    "\n",
    "from importlib import reload\n",
    "package_LAB = reload(package_LAB)\n",
    "from package_DBR import myRound, SelectPath_RT, Delay_RT,Process,Bode\n",
    "from package_LAB import LL_RT,PID_RT, IMCTuning, PID\n",
    "\n"
   ]
  },
  {
   "cell_type": "markdown",
   "id": "d5e812a7",
   "metadata": {
    "tags": []
   },
   "source": [
    "# LL_RT()"
   ]
  },
  {
   "cell_type": "code",
   "execution_count": null,
   "id": "faccb0f9",
   "metadata": {},
   "outputs": [],
   "source": [
    "help(LL_RT)"
   ]
  },
  {
   "cell_type": "code",
   "execution_count": null,
   "id": "9d7981f3",
   "metadata": {
    "tags": []
   },
   "outputs": [],
   "source": [
    "# Simulation parameters\n",
    "TSim = 100\n",
    "Ts = 1\n",
    "N = int(TSim/Ts) + 1\n",
    "\n",
    "# Path for MV\n",
    "MVPath = {0: 0, 5: 1, 50: 2, 80: 3, TSim: 3}\n",
    "\n",
    "# Initializing vectors\n",
    "t = []\n",
    "MV = []\n",
    "MVDelay = []\n",
    "PV_EBD = []\n",
    "PV_EFD = []\n",
    "PV_TRAP = []\n",
    "\n",
    "# Parameters\n",
    "Kp = 1\n",
    "Tla = 10\n",
    "Tle = 15\n",
    "T = 5\n",
    "theta = 10\n",
    "\n",
    "# Main loop\n",
    "for i in range(0, N):\n",
    "    t.append(i*Ts)\n",
    "    SelectPath_RT(MVPath, t, MV)\n",
    "    Delay_RT(MV, theta, Ts, MVDelay)\n",
    "    LL_RT(MVDelay, Kp, Ts, Tle, Tla, PV_EBD, 0, 'EBD')\n",
    "    LL_RT(MVDelay, Kp, Ts, Tle, Tla, PV_EFD, 0, 'EFD')\n",
    "    # LL_RT(MVDelay, Kp, Ts, Tle, Tla, T, PV_TRAP, 0, 'TRAP')\n",
    "\n",
    "# Plotting results\n",
    "plt.figure(figsize=(15, 9))\n",
    "\n",
    "plt.subplot(2, 1, 1)\n",
    "plt.step(t, MV, 'b-', label='MV', where='post')\n",
    "plt.step(t, MVDelay, 'b-', linewidth=0.5, label='MV plus delay', where='post')\n",
    "plt.ylabel('Value of MV')\n",
    "plt.title('First order plus delay response')\n",
    "plt.legend(loc='best')\n",
    "plt.xlim([0, TSim])\n",
    "\n",
    "plt.subplot(2, 1, 2)\n",
    "plt.step(t, PV_EBD, 'g-', label='First order response plus delay (EBD)', where='post')\n",
    "plt.step(t, PV_EFD, 'lime', label='First order response plus delay (EFD)', where='post')\n",
    "# plt.step(t, PV_TRAP, 'springgreen', label='First order response plus delay (TRAP)', where='post')\n",
    "plt.ylabel('Value of PV')\n",
    "plt.xlabel('Time [s]')\n",
    "plt.legend(loc='best')\n",
    "plt.xlim([0, TSim])"
   ]
  },
  {
   "cell_type": "markdown",
   "id": "a224fe53-b58d-4f6e-8e40-6a7435c965e0",
   "metadata": {},
   "source": [
    "# PID_RT"
   ]
  },
  {
   "cell_type": "code",
   "execution_count": null,
   "id": "f1a7546c-c21e-4bac-bab2-5b34398ef8b6",
   "metadata": {},
   "outputs": [],
   "source": [
    "help(PID_RT)"
   ]
  },
  {
   "cell_type": "code",
   "execution_count": null,
   "id": "f122ce2b-2a92-4050-b423-cb3a6a4f6471",
   "metadata": {},
   "outputs": [],
   "source": [
    "# Initialize\n",
    "t = []\n",
    "TSim = 1200\n",
    "Ts = 0.01\n",
    "N = int(TSim/Ts) + 1\n",
    "PVInit = 0\n",
    "MVmin = 0\n",
    "MVmax = 100\n",
    "ManStart = 600\n",
    "ManEnd = 700\n",
    "\n",
    "SP = []\n",
    "MV = []\n",
    "PV = []\n",
    "DV =[]\n",
    "Man = []\n",
    "MVMan = []\n",
    "MVFF = []\n",
    "MVP = []\n",
    "MVI = []\n",
    "MVD = [] \n",
    "E  = []\n",
    "\n",
    "# Paths\n",
    "MVManPath = {0: 50, TSim: 50}  #Valeur MV en mode manuel jusqu'à valeur max de temps TSim\n",
    "SPPath = {0: 50, 5: 60, TSim: 60}\n",
    "PVPath = {0: 50, 5: 50, TSim: 50}\n",
    "ManPath = {0: False, ManStart: True, ManEnd: False, TSim: False} #Timing du passage en mode manuel\n",
    "MVFFPath = {0: 0, 1100 :60, TSim: 60}\n",
    "\n",
    "# Parameters\n",
    "Kc = 1\n",
    "Ti = 50\n",
    "Td = 5\n",
    "alpha = 0.6\n",
    "\n",
    "def update_plot(Kc, Ti, Td, alpha, TSim, ManStart,ManEnd):\n",
    "    t.clear()\n",
    "    SP.clear()\n",
    "    PV.clear()\n",
    "    Man.clear()\n",
    "    MVMan.clear()\n",
    "    MVFF.clear()\n",
    "    MV.clear()\n",
    "    MVP.clear()\n",
    "    MVI.clear()\n",
    "    MVD.clear()\n",
    "    E.clear()\n",
    "    # Update ManPath with new ManStart and ManEnd values from sliders\n",
    "    ManPath = {0: False, ManStart: True, ManEnd: False, TSim: False}\n",
    "    \n",
    "    for i in range(0, N):\n",
    "        t.append(i * Ts)\n",
    "        SelectPath_RT(SPPath, t, SP)\n",
    "        SelectPath_RT(PVPath, t, PV)\n",
    "        SelectPath_RT(ManPath, t, Man)\n",
    "        SelectPath_RT(MVManPath, t, MVMan)\n",
    "        SelectPath_RT(MVFFPath, t, MVFF)\n",
    "        \n",
    "        PID_RT(SP, PV, Man, MVMan, MVFF, Kc, Ti, Td, alpha, Ts, MVmin, MVmax, MV, MVP, MVI, MVD, E, True, PVInit, \"EBD-EBD\")\n",
    "    \n",
    "    \n",
    "    # Plot MV  \n",
    "    plt.figure(figsize=(15, 15))\n",
    "    plt.subplot(4, 1, 1)\n",
    "    plt.step(t, MV, 'b-', label='MV', where='post')\n",
    "    plt.step(t, MVP, '--y', label='MVP', where='post')\n",
    "    plt.step(t, MVI, '--c', label='MVI', where='post')\n",
    "    plt.step(t, MVD, '--r', label='MVD', where='post')\n",
    "    plt.step(t, MVFF, '--g', label='MVFF', where='post')\n",
    "    plt.step(t, E, 'k-', linewidth=1, label='E', where='post')\n",
    "    plt.ylabel('Value of MV')\n",
    "    plt.title('PID response')\n",
    "    plt.legend(loc='best')\n",
    "    plt.xlim([0, TSim])\n",
    "    \n",
    "    # Plot Man\n",
    "    plt.subplot(4, 1, 2)\n",
    "    plt.step(t, Man, 'b-', linewidth=1, label='Man', where='post')\n",
    "    plt.ylabel('Value of Man')\n",
    "    plt.legend(loc='best')\n",
    "    plt.xlim([0, TSim])\n",
    "    \n",
    "#sliders\n",
    "Kc_slider = FloatSlider(value=Kc, min=0.1, max=5.0, step=0.1, description='Kc:', layout=Layout(width='50%'))\n",
    "Ti_slider = FloatSlider(value=Ti, min=0.1, max=100.0, step=0.1, description='Ti:', layout=Layout(width='50%'))\n",
    "Td_slider = FloatSlider(value=Td, min=1, max=20, step=1, description='Td:', layout=Layout(width='50%'))\n",
    "alpha_slider = FloatSlider(value=alpha, min=0.1, max=1.0, step=0.1, description='Alpha:', layout=Layout(width='50%'))\n",
    "ManStart_slider = FloatSlider(value=ManStart, min=100, max=2000, step=100, description='ManStart:', layout=Layout(width='50%'))\n",
    "ManEnd_slider = FloatSlider(value=ManEnd, min=100, max=2000, step=100, description='ManEnd:', layout=Layout(width='50%'))\n",
    "TSim_slider = FloatSlider(value=TSim, min=100, max=2000, step=100, description='TSim:', layout=Layout(width='50%'))\n",
    "\n",
    "interact(update_plot, Kc=Kc_slider, Ti=Ti_slider, Td=Td_slider, alpha=alpha_slider, TSim = TSim_slider, ManStart = ManStart_slider, ManEnd = ManEnd_slider)\n"
   ]
  },
  {
   "cell_type": "markdown",
   "id": "7f5b5bb0-5a36-4e5c-b23f-92a65f61fb8d",
   "metadata": {},
   "source": [
    "# IMCTuning()"
   ]
  },
  {
   "cell_type": "code",
   "execution_count": null,
   "id": "40810cd3-aaef-4ab9-a4fb-51e2ef58425a",
   "metadata": {},
   "outputs": [],
   "source": [
    "help(IMCTuning)"
   ]
  },
  {
   "cell_type": "code",
   "execution_count": null,
   "id": "4a68d359-3b4c-474b-88c8-894d2e66c85d",
   "metadata": {},
   "outputs": [],
   "source": [
    "# Parameters for input-output dynamic\n",
    "Kp = 0.48\n",
    "T1p = 160\n",
    "T2p = 11\n",
    "thetap = 4\n",
    "\n",
    "# Parameters PID controller\n",
    "gamma = 0.6                                # A faire : Discuter variation de gamma\n",
    "Kc, Ti, Td = IMCTuning(Kp,T1p,T2p,thetap,gamma, 'SOPDT')\n",
    "\n",
    "print(\"Kc = \",Kc)\n",
    "print(\"Ti = \",Ti)\n",
    "print(\"Td = \",Td)"
   ]
  },
  {
   "cell_type": "markdown",
   "id": "a4d9c7c5-87f2-44bb-a31b-938dedd61dd2",
   "metadata": {},
   "source": [
    "# StabilityMargins()"
   ]
  },
  {
   "cell_type": "code",
   "execution_count": null,
   "id": "1be1000a-342e-496e-89d9-d357b61ba96c",
   "metadata": {},
   "outputs": [],
   "source": []
  },
  {
   "cell_type": "code",
   "execution_count": null,
   "id": "28cb3415-3181-4bf5-99e5-f1779e3f9280",
   "metadata": {},
   "outputs": [],
   "source": []
  },
  {
   "cell_type": "code",
   "execution_count": null,
   "id": "07d07c40-782e-4ef4-9f89-9648f51e5a33",
   "metadata": {},
   "outputs": [],
   "source": []
  }
 ],
 "metadata": {
  "kernelspec": {
   "display_name": "Python 3 (ipykernel)",
   "language": "python",
   "name": "python3"
  },
  "language_info": {
   "codemirror_mode": {
    "name": "ipython",
    "version": 3
   },
   "file_extension": ".py",
   "mimetype": "text/x-python",
   "name": "python",
   "nbconvert_exporter": "python",
   "pygments_lexer": "ipython3",
   "version": "3.11.7"
  }
 },
 "nbformat": 4,
 "nbformat_minor": 5
}
